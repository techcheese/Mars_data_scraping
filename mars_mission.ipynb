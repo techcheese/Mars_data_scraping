{
 "cells": [
  {
   "cell_type": "code",
   "execution_count": 417,
   "metadata": {},
   "outputs": [],
   "source": [
    "%reload_ext black\n",
    "from bs4 import BeautifulSoup\n",
    "from bs4 import NavigableString\n",
    "import pandas as pd\n",
    "import pprint\n",
    "import requests\n",
    "import datetime\n",
    "import urllib"
   ]
  },
  {
   "cell_type": "code",
   "execution_count": 418,
   "metadata": {},
   "outputs": [],
   "source": [
    "news_url = 'https://mars.nasa.gov/news/'\n",
    "jpl_root = 'https://www.jpl.nasa.gov'\n",
    "img_url = 'https://www.jpl.nasa.gov/spaceimages/?search=&category=Mars'"
   ]
  },
  {
   "cell_type": "markdown",
   "metadata": {},
   "source": [
    "# Latest Mars Articles"
   ]
  },
  {
   "cell_type": "code",
   "execution_count": 419,
   "metadata": {},
   "outputs": [
    {
     "name": "stdout",
     "output_type": "stream",
     "text": [
      "Virginia Middle School Student Earns Honor of Naming NASA's Next Mars Rover\n",
      "NASA chose a seventh-grader from Virginia as winner of the agency's \"Name the Rover\" essay contest. Alexander Mather's entry for \"Perseverance\" was voted tops among 28,000 entries.\n"
     ]
    }
   ],
   "source": [
    "#open and parse the page\n",
    "page = urllib.request.urlopen(news_url)\n",
    "news_soup = BeautifulSoup(page, 'html.parser')\n",
    "\n",
    "#zip title and description items for iterability\n",
    "zipped = zip(\n",
    "    news_soup.find_all('div', class_='content_title'),\n",
    "    news_soup.find_all('div', class_='image_and_description_container')\n",
    "            )\n",
    "\n",
    "#loop though zip object and extract data\n",
    "articles = []\n",
    "for div in zipped:\n",
    "    info_dict = {\n",
    "    'article_title' : div[0].a.text.strip(),\n",
    "    #'date_posted' : div[2].text.strip(),\n",
    "    'description_text' : div[1].text.strip(),\n",
    "    'article_link' : div[1].a['href'].strip(),\n",
    "    }\n",
    "    articles.append(info_dict)\n",
    "\n",
    "##grab the latest article\n",
    "latest_article_title = articles[0]['article_title']\n",
    "latest_article_desc = articles[0]['description_text']\n",
    "\n",
    "print(latest_article_title)\n",
    "print(latest_article_desc)"
   ]
  },
  {
   "cell_type": "markdown",
   "metadata": {},
   "source": [
    "# Mars Images from JPL"
   ]
  },
  {
   "cell_type": "code",
   "execution_count": 420,
   "metadata": {},
   "outputs": [
    {
     "name": "stdout",
     "output_type": "stream",
     "text": [
      "Galactic Gathering Gives Impressive Light Display\n",
      "https://www.jpl.nasa.gov/spaceimages/images/mediumsize/PIA18903_ip.jpg\n"
     ]
    }
   ],
   "source": [
    "#open and parse the page\n",
    "r = requests.get(img_url).text\n",
    "img_soup = BeautifulSoup(r, 'html.parser')\n",
    "\n",
    "latest_img_title = (img_soup.find('div', class_='carousel_items')\n",
    "                    .div.h1.text.strip())\n",
    "latest_img_url = str(img_soup.find('div', class_='carousel_items')\n",
    "                     .div.footer.a.attrs['data-fancybox-href'])\n",
    "\n",
    "latest_img_url_full = jpl_root + latest_img_url\n",
    "\n",
    "print(latest_img_title)\n",
    "print(latest_img_url_full)"
   ]
  },
  {
   "cell_type": "code",
   "execution_count": 424,
   "metadata": {},
   "outputs": [],
   "source": [
    "twiter_url = 'https://twitter.com/marswxreport?lang=en'\n",
    "r = requests.get(twiter_url).text\n",
    "twit_soup = BeautifulSoup(r, 'html.parser')\n",
    "\n",
    "tw_zip = zip(\n",
    "    twit_soup.find_all('div', class_=\"js-tweet-text-container\"), \n",
    "    twit_soup.find_all('span', class_=\"_timestamp js-short-timestamp\")\n",
    "            )\n",
    "weather = []\n",
    "for tweet in tw_zip:\n",
    "    \n",
    "    info_dict = {'tweet_text' : tweet[0].p.text,\n",
    "                'date' : datetime.date.fromtimestamp(int(tweet[1].attrs['data-time']))}\n",
    "    if info_dict['tweet_text'].startswith('InSight') and info_dict not in weather:\n",
    "        weather.append(info_dict)\n",
    "# div class=\"js-tweet-text-container\">\n",
    "# <p class=\"TweetTextSize TweetTextSize--normal js-tweet-text tweet-text\" data-aria-label-part=\"0\" lang=\"en\">InSight sol 451 (2020-03-03) low -93.6ºC (-136.4ºF) high -10.3ºC (13.4ºF)\n",
    "# winds from the SSE at 6.3 m/s (14.2 mph) gusting to 19.9 m/s (44.5 mph)\n",
    "# pressure at 6.30 hPa<a class=\"twitter-timeline-link u-hidden\" data-pre-embedded=\"true\" dir=\"ltr\" href=\"https://t.co/s9U5e7aC8b\">pic.twitter.com/s9U5e7aC8b</a></p>\n",
    "# </div>\n",
    "\n",
    "    \n",
    "# <a class=\"tweet-timestamp js-permalink js-nav js-tooltip\" \n",
    "# data-conversation-id=\"1234899138204119040\" \n",
    "# href=\"/MarsWxReport/status/1234899138204119040\" \n",
    "# title=\"9:51 AM - 3 Mar 2020\">\n",
    "# <span class=\"_timestamp js-short-timestamp\" \n",
    "# data-aria-label-part=\"last\" data-long-form=\"true\"\n",
    "# data-time=\"1583257872\" data-time-ms=\"1583257872000\">Mar 3</span></a>"
   ]
  },
  {
   "cell_type": "code",
   "execution_count": 425,
   "metadata": {},
   "outputs": [
    {
     "data": {
      "text/plain": [
       "[{'tweet_text': 'InSight sol 457 (2020-03-10) low -95.7ºC (-140.3ºF) high -9.1ºC (15.6ºF)\\nwinds from the SSE at 6.5 m/s (14.5 mph) gusting to 21.0 m/s (46.9 mph)\\npressure at 6.30 hPapic.twitter.com/2h0LKoSQrJ',\n",
       "  'date': datetime.date(2020, 3, 8)},\n",
       " {'tweet_text': 'InSight sol 456 (2020-03-08) low -94.6ºC (-138.3ºF) high -9.6ºC (14.7ºF)\\nwinds from the SSE at 5.8 m/s (12.9 mph) gusting to 20.2 m/s (45.2 mph)\\npressure at 6.30 hPa',\n",
       "  'date': datetime.date(2020, 3, 7)},\n",
       " {'tweet_text': 'InSight sol 455 (2020-03-08) low -95.4ºC (-139.8ºF) high -13.0ºC (8.5ºF)\\nwinds from the SSE at 6.0 m/s (13.5 mph) gusting to 20.7 m/s (46.2 mph)\\npressure at 6.40 hPapic.twitter.com/HrRcPTpSEQ',\n",
       "  'date': datetime.date(2020, 3, 5)},\n",
       " {'tweet_text': 'InSight sol 454 (2020-03-06) low -96.0ºC (-140.8ºF) high -12.7ºC (9.1ºF)\\nwinds from the SSE at 5.8 m/s (12.9 mph) gusting to 25.2 m/s (56.4 mph)\\npressure at 6.30 hPapic.twitter.com/SW2gBfJY3o',\n",
       "  'date': datetime.date(2020, 3, 5)},\n",
       " {'tweet_text': 'InSight sol 453 (2020-03-05) low -95.1ºC (-139.1ºF) high -10.8ºC (12.6ºF)\\nwinds from the SSW at 6.0 m/s (13.3 mph) gusting to 21.4 m/s (47.9 mph)\\npressure at 6.30 hPapic.twitter.com/8nEk9RxzXk',\n",
       "  'date': datetime.date(2020, 3, 5)},\n",
       " {'tweet_text': 'InSight sol 452 (2020-03-05) low -94.2ºC (-137.7ºF) high -9.2ºC (15.4ºF)\\nwinds from the SSW at 6.5 m/s (14.5 mph) gusting to 19.6 m/s (43.9 mph)\\npressure at 6.30 hPapic.twitter.com/oCMblxEv6O',\n",
       "  'date': datetime.date(2020, 3, 3)},\n",
       " {'tweet_text': 'InSight sol 451 (2020-03-03) low -93.6ºC (-136.4ºF) high -10.3ºC (13.4ºF)\\nwinds from the SSE at 6.3 m/s (14.2 mph) gusting to 19.9 m/s (44.5 mph)\\npressure at 6.30 hPapic.twitter.com/s9U5e7aC8b',\n",
       "  'date': datetime.date(2020, 3, 2)},\n",
       " {'tweet_text': 'InSight sol 450 (2020-03-02) low -93.5ºC (-136.4ºF) high -10.4ºC (13.3ºF)\\nwinds from the SSW at 5.5 m/s (12.4 mph) gusting to 20.6 m/s (46.1 mph)\\npressure at 6.30 hPapic.twitter.com/82lzRqibcC',\n",
       "  'date': datetime.date(2020, 3, 1)},\n",
       " {'tweet_text': 'InSight sol 449 (2020-03-01) low -93.6ºC (-136.4ºF) high -11.3ºC (11.7ºF)\\nwinds from the SSW at 6.8 m/s (15.1 mph) gusting to 23.9 m/s (53.4 mph)\\npressure at 6.30 hPapic.twitter.com/ZcHyd02Y9r',\n",
       "  'date': datetime.date(2020, 2, 29)},\n",
       " {'tweet_text': 'InSight sol 448 (2020-02-29) low -94.1ºC (-137.3ºF) high -8.3ºC (17.0ºF)\\nwinds from the SSW at 5.5 m/s (12.4 mph) gusting to 19.9 m/s (44.6 mph)\\npressure at 6.30 hPapic.twitter.com/QTKm4klPNr',\n",
       "  'date': datetime.date(2020, 2, 27)},\n",
       " {'tweet_text': 'InSight sol 447 (2020-02-28) low -92.6ºC (-134.6ºF) high -11.1ºC (12.0ºF)\\nwinds from the SSW at 5.8 m/s (13.1 mph) gusting to 20.2 m/s (45.2 mph)\\npressure at 6.30 hPapic.twitter.com/fKd4VPHImB',\n",
       "  'date': datetime.date(2020, 2, 26)},\n",
       " {'tweet_text': 'InSight sol 446 (2020-02-27) low -93.6ºC (-136.5ºF) high -11.3ºC (11.7ºF)\\nwinds from the SSE at 6.2 m/s (14.0 mph) gusting to 20.6 m/s (46.0 mph)\\npressure at 6.30 hPapic.twitter.com/Kv5EZTFAli',\n",
       "  'date': datetime.date(2020, 2, 25)}]"
      ]
     },
     "execution_count": 425,
     "metadata": {},
     "output_type": "execute_result"
    }
   ],
   "source": [
    "weather"
   ]
  },
  {
   "cell_type": "code",
   "execution_count": null,
   "metadata": {},
   "outputs": [],
   "source": []
  },
  {
   "cell_type": "code",
   "execution_count": null,
   "metadata": {},
   "outputs": [],
   "source": []
  }
 ],
 "metadata": {
  "kernelspec": {
   "display_name": "mars_mission",
   "language": "python",
   "name": "mars"
  },
  "language_info": {
   "codemirror_mode": {
    "name": "ipython",
    "version": 3
   },
   "file_extension": ".py",
   "mimetype": "text/x-python",
   "name": "python",
   "nbconvert_exporter": "python",
   "pygments_lexer": "ipython3",
   "version": "3.7.4"
  }
 },
 "nbformat": 4,
 "nbformat_minor": 4
}
