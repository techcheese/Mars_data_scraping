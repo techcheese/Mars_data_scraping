{
 "cells": [
  {
   "cell_type": "code",
   "execution_count": 323,
   "metadata": {},
   "outputs": [],
   "source": [
    "%reload_ext black\n",
    "from bs4 import BeautifulSoup\n",
    "from bs4 import NavigableString\n",
    "import pandas as pd\n",
    "import pprint\n",
    "\n",
    "import urllib"
   ]
  },
  {
   "cell_type": "code",
   "execution_count": 324,
   "metadata": {},
   "outputs": [],
   "source": [
    "news_url = 'https://mars.nasa.gov/news/'\n",
    "img_url = 'https://www.jpl.nasa.gov/spaceimages/?search=&category=Mars'"
   ]
  },
  {
   "cell_type": "markdown",
   "metadata": {},
   "source": [
    "# Latest Mars Articles"
   ]
  },
  {
   "cell_type": "code",
   "execution_count": 327,
   "metadata": {},
   "outputs": [
    {
     "name": "stdout",
     "output_type": "stream",
     "text": [
      "Virginia Middle School Student Earns Honor of Naming NASA's Next Mars Rover\n",
      "NASA chose a seventh-grader from Virginia as winner of the agency's \"Name the Rover\" essay contest. Alexander Mather's entry for \"Perseverance\" was voted tops among 28,000 entries.\n"
     ]
    }
   ],
   "source": [
    "#open and parse the page\n",
    "page = urllib.request.urlopen(news_url)\n",
    "news_soup = BeautifulSoup(page, 'html.parser')\n",
    "\n",
    "#zip title and description items for iterability\n",
    "zipped = zip(\n",
    "    news_soup.find_all('div', class_='content_title'),\n",
    "    news_soup.find_all('div', class_='image_and_description_container')\n",
    "            )\n",
    "\n",
    "#loop though zip object and extract data\n",
    "articles = []\n",
    "for div in zipped:\n",
    "    info_dict = {\n",
    "    'article_title' : div[0].a.text.strip(),\n",
    "    #'date_posted' : div[2].text.strip(),\n",
    "    'description_text' : div[1].text.strip(),\n",
    "    'article_link' : div[1].a['href'].strip(),\n",
    "    }\n",
    "    articles.append(info_dict)\n",
    "\n",
    "##grab the latest article\n",
    "latest_article_title = articles[0]['article_title']\n",
    "latest_article_desc = articles[0]['description_text']\n",
    "\n",
    "print(latest_article_title)\n",
    "print(latest_article_desc)"
   ]
  },
  {
   "cell_type": "markdown",
   "metadata": {},
   "source": [
    "# Mars Images from JPL"
   ]
  },
  {
   "cell_type": "code",
   "execution_count": 328,
   "metadata": {},
   "outputs": [],
   "source": [
    "#open and parse the page\n",
    "page = urllib.request.urlopen(img_url)\n",
    "img_soup = BeautifulSoup(page, 'html.parser')\n",
    "\n"
   ]
  },
  {
   "cell_type": "code",
   "execution_count": 259,
   "metadata": {},
   "outputs": [
    {
     "name": "stdout",
     "output_type": "stream",
     "text": [
      "Virginia Middle School Student Earns Honor of Naming NASA's Next Mars Rover\n",
      "NASA Prepares for Moon and Mars With New Addition to Its Deep Space Network\n",
      "NASA Administrator Statement on Moon to Mars Initiative, FY 2021 Budget\n",
      "NASA's Mars 2020 Rover Closer to Getting Its Name\n",
      "NASA Invites Students to Name Mars 2020 Rover\n",
      "NASA's Curiosity Mars Rover Finds a Clay Cache\n"
     ]
    }
   ],
   "source": []
  },
  {
   "cell_type": "code",
   "execution_count": null,
   "metadata": {},
   "outputs": [],
   "source": []
  },
  {
   "cell_type": "code",
   "execution_count": null,
   "metadata": {},
   "outputs": [],
   "source": []
  },
  {
   "cell_type": "code",
   "execution_count": null,
   "metadata": {},
   "outputs": [],
   "source": []
  }
 ],
 "metadata": {
  "kernelspec": {
   "display_name": "mars_mission",
   "language": "python",
   "name": "mars"
  },
  "language_info": {
   "codemirror_mode": {
    "name": "ipython",
    "version": 3
   },
   "file_extension": ".py",
   "mimetype": "text/x-python",
   "name": "python",
   "nbconvert_exporter": "python",
   "pygments_lexer": "ipython3",
   "version": "3.7.4"
  }
 },
 "nbformat": 4,
 "nbformat_minor": 4
}
